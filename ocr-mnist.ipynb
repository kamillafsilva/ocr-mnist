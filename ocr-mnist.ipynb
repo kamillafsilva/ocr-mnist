{
  "nbformat": 4,
  "nbformat_minor": 0,
  "metadata": {
    "colab": {
      "provenance": []
    },
    "kernelspec": {
      "name": "python3",
      "display_name": "Python 3"
    },
    "language_info": {
      "name": "python"
    }
  },
  "cells": [
    {
      "cell_type": "markdown",
      "source": [
        "# Importação dos pacotes"
      ],
      "metadata": {
        "id": "kFDzq0ptsj6T"
      }
    },
    {
      "cell_type": "code",
      "source": [
        "import matplotlib.pyplot as plt\n",
        "\n",
        "from sklearn.datasets import fetch_openml\n",
        "\n",
        "from sklearn.ensemble import RandomForestClassifier\n",
        "from sklearn.model_selection import cross_val_predict\n",
        "from sklearn.metrics import precision_score, recall_score, f1_score, confusion_matrix, ConfusionMatrixDisplay"
      ],
      "metadata": {
        "id": "N2uMPx9NsXer"
      },
      "execution_count": null,
      "outputs": []
    },
    {
      "cell_type": "code",
      "source": [
        "def plot_digits(X, target):\n",
        "\n",
        "  n = X.shape[0]\n",
        "  f, ax = plt.subplots(1, n)\n",
        "\n",
        "  for i in range(0 , n):\n",
        "    x = X[i].reshape(28, 28)\n",
        "\n",
        "    ax[i].imshow(x, cmap=\"binary\")\n",
        "    ax[i].set_title('target: ' + target[i])\n",
        "    ax[i].axis(\"off\")"
      ],
      "metadata": {
        "id": "SrV158xbs6rQ"
      },
      "execution_count": null,
      "outputs": []
    },
    {
      "cell_type": "markdown",
      "source": [
        "# Carregando os dados"
      ],
      "metadata": {
        "id": "-KUc9kVxsoP7"
      }
    },
    {
      "cell_type": "code",
      "source": [
        "mnist = fetch_openml('mnist_784', as_frame=False)"
      ],
      "metadata": {
        "colab": {
          "base_uri": "https://localhost:8080/"
        },
        "id": "K-LrvZkistNh",
        "outputId": "7ad4f4ab-94d0-4ac5-b5c3-8ede36b390db"
      },
      "execution_count": null,
      "outputs": [
        {
          "output_type": "stream",
          "name": "stderr",
          "text": [
            "/usr/local/lib/python3.10/dist-packages/sklearn/datasets/_openml.py:968: FutureWarning: The default value of `parser` will change from `'liac-arff'` to `'auto'` in 1.4. You can set `parser='auto'` to silence this warning. Therefore, an `ImportError` will be raised from 1.4 if the dataset is dense and pandas is not installed. Note that the pandas parser may return different data types. See the Notes Section in fetch_openml's API doc for details.\n",
            "  warn(\n"
          ]
        }
      ]
    },
    {
      "cell_type": "code",
      "execution_count": null,
      "metadata": {
        "id": "A1bDrtybsUYL"
      },
      "outputs": [],
      "source": [
        "X, y = mnist.data, mnist.target"
      ]
    },
    {
      "cell_type": "markdown",
      "source": [
        "exemplos das instâncias disponíveis na base de dados:"
      ],
      "metadata": {
        "id": "PAOjSLtDtDxR"
      }
    },
    {
      "cell_type": "code",
      "source": [
        "plot_digits(X[0:5], y[0:5])"
      ],
      "metadata": {
        "colab": {
          "base_uri": "https://localhost:8080/",
          "height": 144
        },
        "id": "yXdx3nlIsw1J",
        "outputId": "1ae74f87-9d28-4f75-a8e2-561b182c916a"
      },
      "execution_count": null,
      "outputs": [
        {
          "output_type": "display_data",
          "data": {
            "text/plain": [
              "<Figure size 640x480 with 5 Axes>"
            ],
            "image/png": "[encoded data removed]"
          },
          "metadata": {}
        }
      ]
    },
    {
      "cell_type": "markdown",
      "source": [
        "# Separando os conjutos de Treino e Teste"
      ],
      "metadata": {
        "id": "n9mmBl8r3T1v"
      }
    },
    {
      "cell_type": "code",
      "source": [
        "X_train, X_test, y_train, y_test = X[:60000], X[60000:], y[:60000], y[60000:]"
      ],
      "metadata": {
        "id": "m7xCBe-xuKgJ"
      },
      "execution_count": null,
      "outputs": []
    },
    {
      "cell_type": "markdown",
      "source": [
        "# Treinando um modelo Random Forest"
      ],
      "metadata": {
        "id": "GqG5Rrnq32Mn"
      }
    },
    {
      "cell_type": "code",
      "source": [
        "forest_clf = RandomForestClassifier(random_state=42)\n",
        "y_train_pred = cross_val_predict(forest_clf, X_train, y_train, cv=3)"
      ],
      "metadata": {
        "id": "KU6tcnKr4RVv"
      },
      "execution_count": null,
      "outputs": []
    },
    {
      "cell_type": "markdown",
      "source": [
        "avaliando o desempenho do modelo:"
      ],
      "metadata": {
        "id": "eeUW7S224sz-"
      }
    },
    {
      "cell_type": "code",
      "source": [
        "ConfusionMatrixDisplay.from_predictions(y_train, y_train_pred)"
      ],
      "metadata": {
        "id": "QQoS_wnP4r3p"
      },
      "execution_count": null,
      "outputs": []
    },
    {
      "cell_type": "code",
      "source": [
        "sample_weight = (y_train_pred != y_train)\n",
        "ConfusionMatrixDisplay.from_predictions(y_train, y_train_pred, sample_weight=sample_weight, normalize=\"true\", values_format=\".0%\")"
      ],
      "metadata": {
        "id": "ZrW86b0R5DEG"
      },
      "execution_count": null,
      "outputs": []
    }
  ]
}